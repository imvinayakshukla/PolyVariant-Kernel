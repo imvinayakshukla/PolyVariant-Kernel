{
 "cells": [
  {
   "cell_type": "code",
   "execution_count": 5,
   "id": "c140fce7-3b31-4276-82d9-49e24819acbf",
   "metadata": {},
   "outputs": [
    {
     "name": "stdout",
     "output_type": "stream",
     "text": [
      "Merged file saved to CNV_CLINICAL.csv\n"
     ]
    }
   ],
   "source": [
    "import pandas as pd\n",
    "\n",
    "# Load the two CSV files\n",
    "file1_path = \"CLINICAL_FINAL.csv\"  # Replace with the path to the first CSV file\n",
    "file2_path = \"CNV_transposed.csv\"  # Replace with the path to the second CSV file\n",
    "df1 = pd.read_csv(file1_path)\n",
    "df2 = pd.read_csv(file2_path)\n",
    "\n",
    "# Merge the two DataFrames on the common 'Patient_ID' column\n",
    "merged_df = pd.merge(df1, df2, on=\"PATIENT_ID\", how=\"inner\")  # Use 'inner' to keep only common Patient_IDs\n",
    "\n",
    "# Save the merged DataFrame to a new CSV file\n",
    "output_path = \"CNV_CLINICAL.csv\"  # Replace with the desired output file path\n",
    "merged_df.to_csv(output_path, index=False)\n",
    "\n",
    "print(f\"Merged file saved to {output_path}\")\n"
   ]
  },
  {
   "cell_type": "code",
   "execution_count": 7,
   "id": "1ac3891a-bdeb-472c-b417-f92d1101d3b0",
   "metadata": {},
   "outputs": [
    {
     "name": "stderr",
     "output_type": "stream",
     "text": [
      "C:\\Users\\vinay\\AppData\\Local\\Temp\\ipykernel_10704\\1544766309.py:5: DtypeWarning: Columns (8) have mixed types. Specify dtype option on import or set low_memory=False.\n",
      "  df = pd.read_csv(file_path)\n"
     ]
    },
    {
     "name": "stdout",
     "output_type": "stream",
     "text": [
      "CSV file updated with 'Subtype' column moved to the last position and saved to updated_csv_file.csv.\n"
     ]
    }
   ],
   "source": [
    "import pandas as pd\n",
    "\n",
    "# Load the CSV file\n",
    "file_path = \"CNV_CLINICAL.csv\"  # Replace with the path to your CSV file\n",
    "df = pd.read_csv(file_path)\n",
    "\n",
    "# Move the 'Subtype' column to the last position\n",
    "if 'SUBTYPE' in df.columns:\n",
    "    subtype_column = df.pop('SUBTYPE')\n",
    "    df['SUBTYPE'] = subtype_column\n",
    "\n",
    "# Save the updated DataFrame to a new CSV file\n",
    "output_path = \"updated_csv_file.csv\"  # Replace with the desired output file path\n",
    "df.to_csv(output_path, index=False)\n",
    "\n",
    "print(f\"CSV file updated with 'Subtype' column moved to the last position and saved to {output_path}.\")\n"
   ]
  },
  {
   "cell_type": "code",
   "execution_count": 11,
   "id": "f7b5f2c9-18e5-4718-adbe-c3d896b4061e",
   "metadata": {},
   "outputs": [
    {
     "name": "stderr",
     "output_type": "stream",
     "text": [
      "C:\\Users\\vinay\\AppData\\Local\\Temp\\ipykernel_10704\\1528020787.py:5: DtypeWarning: Columns (7) have mixed types. Specify dtype option on import or set low_memory=False.\n",
      "  df_final = pd.read_csv(file_path)\n"
     ]
    },
    {
     "name": "stdout",
     "output_type": "stream",
     "text": [
      "Number of rows: 945\n",
      "Number of columns: 16394\n",
      "Last column name: SUBTYPE\n"
     ]
    }
   ],
   "source": [
    "import pandas as pd\n",
    "\n",
    "# Load the CSV file\n",
    "file_path = \"updated_csv_file.csv\"  # Replace with the path to your CSV file\n",
    "df_final = pd.read_csv(file_path)\n",
    "num_rows = df_final.shape[0]  # Number of rows\n",
    "num_columns = df_final.shape[1]  # Number of columns\n",
    "\n",
    "# Get the last column name\n",
    "last_column_name = df_final.columns[-1]\n",
    "\n",
    "print(f'Number of rows: {num_rows}')\n",
    "print(f'Number of columns: {num_columns}')\n",
    "print(f'Last column name: {last_column_name}')"
   ]
  }
 ],
 "metadata": {
  "kernelspec": {
   "display_name": "Python 3 (ipykernel)",
   "language": "python",
   "name": "python3"
  },
  "language_info": {
   "codemirror_mode": {
    "name": "ipython",
    "version": 3
   },
   "file_extension": ".py",
   "mimetype": "text/x-python",
   "name": "python",
   "nbconvert_exporter": "python",
   "pygments_lexer": "ipython3",
   "version": "3.12.4"
  }
 },
 "nbformat": 4,
 "nbformat_minor": 5
}
